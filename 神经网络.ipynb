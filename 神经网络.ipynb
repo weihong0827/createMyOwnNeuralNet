{
 "cells": [
  {
   "cell_type": "code",
   "execution_count": 1,
   "metadata": {},
   "outputs": [],
   "source": [
    "import numpy\n",
    "from matplotlib import pyplot\n",
    "import scipy.special\n",
    "%matplotlib inline"
   ]
  },
  {
   "cell_type": "code",
   "execution_count": 2,
   "metadata": {},
   "outputs": [
    {
     "name": "stdout",
     "output_type": "stream",
     "text": [
      "[[9. 3.]\n",
      " [0. 4.]\n",
      " [0. 5.]]\n"
     ]
    }
   ],
   "source": [
    "a = numpy.zeros([3,2])\n",
    "a[0,0] =9\n",
    "a[0,1] = 3\n",
    "a[1,1] = 4\n",
    "a[2,1] = 5\n",
    "print(a)"
   ]
  },
  {
   "cell_type": "code",
   "execution_count": 3,
   "metadata": {},
   "outputs": [
    {
     "data": {
      "text/plain": [
       "<matplotlib.image.AxesImage at 0x13f527590>"
      ]
     },
     "execution_count": 3,
     "metadata": {},
     "output_type": "execute_result"
    },
    {
     "data": {
      "image/png": "[encoded data removed]",
      "text/plain": [
       "<Figure size 432x288 with 1 Axes>"
      ]
     },
     "metadata": {
      "needs_background": "light"
     },
     "output_type": "display_data"
    }
   ],
   "source": [
    "pyplot.imshow(a,interpolation='nearest')"
   ]
  },
  {
   "cell_type": "code",
   "execution_count": 4,
   "metadata": {},
   "outputs": [],
   "source": [
    "class neuralNetwork:\n",
    "    def __init__(self,inputNode,hiddenNode,outputNode,learningRate):\n",
    "        self.iNode = inputNode\n",
    "        self.hNode = hiddenNode\n",
    "        self.oNode = outputNode\n",
    "        self.lr = learningRate\n",
    "        \n",
    "        #numpy.random.normal(loc,scale,size) \n",
    "        #loc:center of distribution\n",
    "        #scale:standard deviation of distribution\n",
    "\n",
    "        self.wih = numpy.random.normal(0.0,pow(self.hNode,-0.5),(self.hNode,self.iNode)) #weight between input and hidden node\n",
    "        self.who = numpy.random.normal(0.0,pow(self.oNode,-0.5),(self.oNode,self.hNode)) #weight between hidden and output node\n",
    "        \n",
    "        \n",
    "        self.activation_function = lambda x:scipy.special.expit(x) #this is the sigmoid function\n",
    "        \n",
    "    def train(self,input_list,target_list):\n",
    "        \n",
    "        #convert input and target list into 2d array\n",
    "        inputs = numpy.array(input_list,ndmin=2).T\n",
    "        target = numpy.array(target_list,ndmin=2).T\n",
    "        \n",
    "        #calculate signals into hidden layer\n",
    "        hidden_inputs = numpy.dot(self.wih,inputs)\n",
    "        #calculate signal emerging from hidden layer\n",
    "        hidden_outputs = self.activation_function(hidden_inputs)\n",
    "        \n",
    "        #calculate signals into final output layer\n",
    "        final_inputs = numpy.dot(self.who,hidden_outputs)\n",
    "        #calculate signal emerging from final output layer\n",
    "        final_outputs = self.activation_function(final_inputs)\n",
    "        \n",
    "        #error is (target-actual)\n",
    "        output_errors = target - final_outputs\n",
    "        hidden_errors = numpy.dot(self.who.T,output_errors)\n",
    "        \n",
    "        #update the weights for the links between the hidden and output layers\n",
    "        self.who += self.lr * numpy.dot((output_errors*final_outputs*(1.0-final_outputs)),numpy.transpose(hidden_outputs))\n",
    "        \n",
    "        #update the weights for the links between the input and hidden layers\n",
    "        self.wih += self.lr * numpy.dot((hidden_errors*hidden_outputs*(1.0-hidden_outputs)),numpy.transpose(inputs))\n",
    "        \n",
    "    def query(self,input_list):\n",
    "        inputs = numpy.array(input_list,ndmin=2).T\n",
    "        \n",
    "        hidden_inputs = numpy.dot(self.wih,inputs)\n",
    "        hidden_outputs = self.activation_function(hidden_inputs)\n",
    "        \n",
    "        final_inputs = numpy.dot(self.who,hidden_outputs)\n",
    "        final_outputs = self.activation_function(final_inputs)\n",
    "        return final_outputs"
   ]
  },
  {
   "cell_type": "code",
   "execution_count": 5,
   "metadata": {},
   "outputs": [],
   "source": [
    "inputNode=784   #num pixels in the picture\n",
    "hiddenNode= 300\n",
    "outputNode=10\n",
    "learningRate=0.1\n",
    "n= neuralNetwork(inputNode,hiddenNode,outputNode,learningRate)"
   ]
  },
  {
   "cell_type": "code",
   "execution_count": 6,
   "metadata": {},
   "outputs": [
    {
     "name": "stdout",
     "output_type": "stream",
     "text": [
      "60000\n"
     ]
    }
   ],
   "source": [
    "training_data_file = open('mnist_dataset/mnist_train.csv','r')\n",
    "training_data_list = training_data_file.readlines()\n",
    "training_data_file.close()\n",
    "print(len(training_data_list))\n"
   ]
  },
  {
   "cell_type": "code",
   "execution_count": 7,
   "metadata": {},
   "outputs": [],
   "source": [
    "epochs = 5\n",
    "for e in range(epochs):\n",
    "    for record in training_data_list:\n",
    "        all_values = record.split(',')\n",
    "\n",
    "        #scale the numbers to fall in range 0.01-1\n",
    "        scaled_input = (numpy.asfarray(all_values[1:])/255.0*0.99)+0.01\n",
    "\n",
    "        targets = numpy.zeros(outputNode) +0.01\n",
    "        targets [int(all_values[0])] = 0.99\n",
    "\n",
    "        n.train(scaled_input,targets)"
   ]
  },
  {
   "cell_type": "code",
   "execution_count": 8,
   "metadata": {},
   "outputs": [
    {
     "name": "stdout",
     "output_type": "stream",
     "text": [
      "10000\n"
     ]
    }
   ],
   "source": [
    "test_data_file = open('mnist_dataset/mnist_test.csv','r')\n",
    "test_data_list = test_data_file.readlines()\n",
    "test_data_file.close()\n",
    "print(len(test_data_list))"
   ]
  },
  {
   "cell_type": "code",
   "execution_count": 9,
   "metadata": {},
   "outputs": [
    {
     "name": "stdout",
     "output_type": "stream",
     "text": [
      "7\n"
     ]
    }
   ],
   "source": [
    "all_values = test_data_list[0].split(',')\n",
    "print(all_values[0])\n"
   ]
  },
  {
   "cell_type": "code",
   "execution_count": 10,
   "metadata": {},
   "outputs": [
    {
     "data": {
      "text/plain": [
       "<matplotlib.image.AxesImage at 0x14169a610>"
      ]
     },
     "execution_count": 10,
     "metadata": {},
     "output_type": "execute_result"
    },
    {
     "data": {
      "image/png": "[encoded data removed]",
      "text/plain": [
       "<Figure size 432x288 with 1 Axes>"
      ]
     },
     "metadata": {
      "needs_background": "light"
     },
     "output_type": "display_data"
    }
   ],
   "source": [
    "image_array = numpy.asfarray(all_values[1:]).reshape((28,28))\n",
    "pyplot.imshow(image_array,cmap='Greys',interpolation='None')"
   ]
  },
  {
   "cell_type": "code",
   "execution_count": 11,
   "metadata": {},
   "outputs": [
    {
     "name": "stdout",
     "output_type": "stream",
     "text": [
      "performance =  0.9748\n"
     ]
    }
   ],
   "source": [
    "scoreboard = []\n",
    "\n",
    "for record in test_data_list:\n",
    "    \n",
    "    all_values = record.split(',')\n",
    "    \n",
    "    #get the correct answer\n",
    "    correct_label = int(all_values[0])\n",
    "    \n",
    "    inputs = (numpy.asfarray(all_values[1:])/255.0*0.99)+0.01\n",
    "    \n",
    "    #query the network\n",
    "    outputs = n.query(inputs)\n",
    "    \n",
    "    #get the index of the highest value in the output\n",
    "    label = numpy.argmax(outputs)\n",
    "    #print(label,correct_label)\n",
    "    if (label == correct_label):\n",
    "        #print('correct')\n",
    "        scoreboard.append(1)\n",
    "    else:\n",
    "        #print('hi')\n",
    "        scoreboard.append(0)\n",
    "        \n",
    "scorecard_array = numpy.asarray(scoreboard)\n",
    "print('performance = ',scorecard_array.sum()/scorecard_array.size)"
   ]
  },
  {
   "cell_type": "code",
   "execution_count": 12,
   "metadata": {},
   "outputs": [],
   "source": [
    "from notebook.auth import passwd"
   ]
  },
  {
   "cell_type": "code",
   "execution_count": 13,
   "metadata": {},
   "outputs": [
    {
     "name": "stdout",
     "output_type": "stream",
     "text": [
      "Enter password: ········\n",
      "Verify password: ········\n"
     ]
    },
    {
     "data": {
      "text/plain": [
       "'sha1:256edf29b7c0:65dbe2c7b17dc05ac7173c979db4e65fc4afd027'"
      ]
     },
     "execution_count": 13,
     "metadata": {},
     "output_type": "execute_result"
    }
   ],
   "source": [
    "passwd()\n"
   ]
  }
 ],
 "metadata": {
  "kernelspec": {
   "display_name": "Python 3",
   "language": "python",
   "name": "python3"
  },
  "language_info": {
   "codemirror_mode": {
    "name": "ipython",
    "version": 3
   },
   "file_extension": ".py",
   "mimetype": "text/x-python",
   "name": "python",
   "nbconvert_exporter": "python",
   "pygments_lexer": "ipython3",
   "version": "3.7.7"
  }
 },
 "nbformat": 4,
 "nbformat_minor": 4
}
